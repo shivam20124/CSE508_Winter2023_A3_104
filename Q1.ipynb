{
 "cells": [
  {
   "cell_type": "code",
   "execution_count": 9,
   "metadata": {},
   "outputs": [],
   "source": [
    "#Reading the text file\n",
    "import csv\n",
    "\n",
    "with open('wiki-Vote.txt') as f:\n",
    "    lines = f.readlines()\n",
    "\n",
    "edge_list = []\n",
    "\n",
    "count = 1\n",
    "for i in lines:\n",
    "    if(count>4):\n",
    "        # print(i)\n",
    "        x = i.split()\n",
    "        edge = []\n",
    "        edge.append(int(x[0]))\n",
    "        edge.append(int(x[1]))\n",
    "        edge_list.append(edge)\n",
    "    count  = count + 1\n",
    "\n",
    "headings = ['fromNodeID', 'toNodeID']\n",
    "\n",
    "with open('EdgeList.csv', 'w') as f:\n",
    "    write_to_csv = csv.writer(f)\n",
    "    write_to_csv.writerow(headings)\n",
    "    write_to_csv.writerows(edge_list)\n"
   ]
  },
  {
   "cell_type": "code",
   "execution_count": 3,
   "metadata": {},
   "outputs": [],
   "source": [
    "import pandas as pd\n",
    "import csv\n",
    "\n",
    "df1 = pd.read_csv('EdgeList.csv')\n",
    "\n",
    "max_fromNodeID = df1['fromNodeID'].max()\n",
    "max_toNodeID = df1['toNodeID'].max()\n",
    "max_ID = max_toNodeID\n",
    "\n",
    "if(max_fromNodeID>max_ID):\n",
    "    max_ID = max_fromNodeID\n",
    "\n",
    "adjacency_mat = [[0 for col in range(max_ID)] for row in range(max_ID)]\n",
    "# print(max_ID) = 8297\n",
    "#For Adjacency Matrix of Directed Graph, we are following the convention where\n",
    "#row in matrix corresponds to the \"toNodeID\" and columns refer to \"fromNodeID\"\n",
    "\n",
    "len_df1 = len(df1.index)\n",
    "\n",
    "for i in range(len_df1):\n",
    "    row_no = df1.iloc[i,1]\n",
    "    col_no = df1.iloc[i,0]\n",
    "    adjacency_mat[row_no-1][col_no-1] = adjacency_mat[row_no-1][col_no-1] + 1"
   ]
  },
  {
   "cell_type": "code",
   "execution_count": 7,
   "metadata": {},
   "outputs": [],
   "source": [
    "import pandas as pd\n",
    "\n",
    "header_list = []\n",
    "for i in range(max_ID):\n",
    "    header_list.append(i+1)\n",
    "\n",
    "adjacency_df = pd.DataFrame(adjacency_mat, columns=header_list)\n",
    "# adjacency_df = adjacency_df.set_index(header_list)\n",
    "# adjacency_df\n",
    "adjacency_df.to_csv('AdjacencyMatrix.csv')\n"
   ]
  }
 ],
 "metadata": {
  "kernelspec": {
   "display_name": "Python 3",
   "language": "python",
   "name": "python3"
  },
  "language_info": {
   "codemirror_mode": {
    "name": "ipython",
    "version": 3
   },
   "file_extension": ".py",
   "mimetype": "text/x-python",
   "name": "python",
   "nbconvert_exporter": "python",
   "pygments_lexer": "ipython3",
   "version": "3.9.6"
  },
  "orig_nbformat": 4
 },
 "nbformat": 4,
 "nbformat_minor": 2
}
